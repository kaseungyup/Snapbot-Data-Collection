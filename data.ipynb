{
 "cells": [
  {
   "cell_type": "code",
   "execution_count": null,
   "metadata": {},
   "outputs": [],
   "source": [
    "# 50Hz 0~20sec\n",
    "# length = 1001\n",
    "\n",
    "# data to collect\n",
    "    # 1. Simulation\n",
    "    #    - x, y, z, yaw (+roll, pitch?)\n",
    "    # 2. Arduino\n",
    "    #    - IMU Data \n",
    "    # 3. Realsense Camera\n",
    "    #    - TPS coefficients\n",
    "    #    - x, y, yaw\n",
    "    #    - video data\n",
    "    # 4. Egocentric Camera\n",
    "    #    - video data"
   ]
  },
  {
   "cell_type": "markdown",
   "metadata": {},
   "source": [
    "## Check camera indices"
   ]
  },
  {
   "cell_type": "code",
   "execution_count": null,
   "metadata": {},
   "outputs": [],
   "source": [
    "import cv2\n",
    "camera_idx = []\n",
    "for idx in range(30):\n",
    "    cap = cv2.VideoCapture(idx)\n",
    "    if cap.isOpened():\n",
    "        camera_idx.append(idx)\n",
    "        cap.release()\n",
    "    else : \n",
    "        pass\n",
    "\n",
    "print(camera_idx)"
   ]
  },
  {
   "cell_type": "code",
   "execution_count": null,
   "metadata": {},
   "outputs": [],
   "source": [
    "import cv2, time\n",
    "\n",
    "#check camera using index\n",
    "cap = cv2.VideoCapture(4)\n",
    "\n",
    "fps = cap.get(cv2.CAP_PROP_FPS)\n",
    "delay = int(1000/fps)\n",
    "\n",
    "now = time.time()\n",
    "while time.time() < now+5:\n",
    "    ret,frame = cap.read()\n",
    "    if not ret: break\n",
    "    cv2.imshow('Camera', frame)\n",
    "    if cv2.waitKey(delay) == 27:\n",
    "        break\n",
    "cap.release()\n",
    "cv2.destroyAllWindows()\n"
   ]
  },
  {
   "cell_type": "markdown",
   "metadata": {},
   "source": [
    "## Select Variables"
   ]
  },
  {
   "cell_type": "code",
   "execution_count": null,
   "metadata": {},
   "outputs": [],
   "source": [
    "TRAJECTORY_NUMBER = 31\n",
    "REALSENSE_CAMERA_NUMBER = 12\n",
    "EGOCENTRIC_CAMERA_NUMBER = 4\n",
    "IMU_USB_NUMBER = 1\n",
    "SNAPBOT_USB_NUMBER = 0"
   ]
  },
  {
   "cell_type": "markdown",
   "metadata": {},
   "source": [
    "## Instantiate Snapbot"
   ]
  },
  {
   "cell_type": "code",
   "execution_count": null,
   "metadata": {},
   "outputs": [],
   "source": [
    "from realworld_func.class_xm430 import *\n",
    "\n",
    "snapbot = xm430('SNAPBOT', USB_NUM=SNAPBOT_USB_NUMBER)\n",
    "snapbot.connect()\n",
    "leg_idx = [15, 16, 17, 18, 19, 20, 21, 22]\n",
    "snapbot.IDX_LIST = leg_idx\n",
    "snapbot.set_delaytime([30])\n",
    "snapbot.set_pidgains(20, 0, 0)\n",
    "snapbot.set_maxtorque([2000])\n",
    "snapbot.set_goalspeed([1500])\n",
    "snapbot.set_torque([1])"
   ]
  },
  {
   "cell_type": "markdown",
   "metadata": {},
   "source": [
    "## Initialize Snapbot"
   ]
  },
  {
   "cell_type": "code",
   "execution_count": null,
   "metadata": {},
   "outputs": [],
   "source": [
    "snapbot.set_goalpos([2048, 2048, 2048, 2048, 2048, 2048, 2048, 2048])\n",
    "print(snapbot.get_currpos())\n",
    "print(\"INITIALIZE POSITION\")"
   ]
  },
  {
   "cell_type": "markdown",
   "metadata": {},
   "source": [
    "## Test Snapbot"
   ]
  },
  {
   "cell_type": "code",
   "execution_count": null,
   "metadata": {},
   "outputs": [],
   "source": [
    "import os\n",
    "from utils.utils_real import run_snapbot\n",
    "\n",
    "poses = np.load(os.path.join(os.getcwd(), \"trajectory\", \"qpos_dlpg_%d.npy\" % TRAJECTORY_NUMBER))\n",
    "run_snapbot(poses[:300],snapbot,50,100)"
   ]
  },
  {
   "cell_type": "markdown",
   "metadata": {},
   "source": [
    "## Timer"
   ]
  },
  {
   "cell_type": "code",
   "execution_count": null,
   "metadata": {},
   "outputs": [],
   "source": [
    "import cv2, os, serial\n",
    "import numpy as np\n",
    "from time import time, localtime\n",
    "from classes.timer import Timer\n",
    "from utils.utils_tps import get_tps_mat\n",
    "from utils.utils_real import run_snapbot_single\n",
    "from imutils.video import WebcamVideoStream\n",
    "\n",
    "cwd = os.getcwd()\n",
    "tm = localtime(time())\n",
    "Hz = 25\n",
    "\n",
    "\n",
    "# input data path\n",
    "TRAJECTORY_PATH = os.path.join(cwd, \"trajectory\", \"qpos_dlpg_%d.npy\" % TRAJECTORY_NUMBER)\n",
    "traj = np.load(TRAJECTORY_PATH)\n",
    "traj_time = (traj.shape[0]-1) / Hz\n",
    "\n",
    "\n",
    "# output data path\n",
    "DATA_FOLDER = os.path.join(cwd, \"data\")\n",
    "DATA_FOLDER_TIME = os.path.join(DATA_FOLDER, \"%d%02d%02d-%02d:%02d:%02d\" % (tm.tm_year, tm.tm_mon, tm.tm_mday, tm.tm_hour, tm.tm_min, tm.tm_sec))\n",
    "RS_CAMERA_FOLDER = os.path.join(DATA_FOLDER_TIME, \"realsense_camera\")\n",
    "EGO_CAMERA_FOLDER = os.path.join(DATA_FOLDER_TIME, \"egocentric_camera\")\n",
    "\n",
    "if not os.path.isdir(DATA_FOLDER): os.mkdir(DATA_FOLDER)\n",
    "os.mkdir(DATA_FOLDER_TIME)\n",
    "os.mkdir(RS_CAMERA_FOLDER)\n",
    "os.mkdir(EGO_CAMERA_FOLDER)\n",
    "with open(os.path.join(DATA_FOLDER_TIME, \"traj_number.txt\"), \"w\") as file:\n",
    "    file.writelines(\"Trajectory number: %d\" % TRAJECTORY_NUMBER)\n",
    "\n",
    "\n",
    "time_data = []\n",
    "idx = 0\n",
    "idx_snapbot = 0\n",
    "\n",
    "\n",
    "ser = serial.Serial('/dev/ttyUSB{}'.format(IMU_USB_NUMBER), 115200, timeout=1)\n",
    "imu_data = []\n",
    "\n",
    "\n",
    "tps_coef = get_tps_mat()\n",
    "np.save(os.path.join(DATA_FOLDER_TIME, \"tps_coef.npy\"), tps_coef)\n",
    "\n",
    "\n",
    "rs_video = WebcamVideoStream(src=REALSENSE_CAMERA_NUMBER).start()\n",
    "rs_frame_width = rs_video.frame.shape[1]\n",
    "rs_frame_height = rs_video.frame.shape[0]\n",
    "rs_size = (rs_frame_width, rs_frame_height)\n",
    "rs_result = cv2.VideoWriter(os.path.join(RS_CAMERA_FOLDER, \"rs.mp4\"),\n",
    "            cv2.VideoWriter_fourcc('m','p','4','v'), Hz, rs_size)\n",
    "\n",
    "\n",
    "ego_video = WebcamVideoStream(src=EGOCENTRIC_CAMERA_NUMBER).start()\n",
    "ego_frame_width = ego_video.frame.shape[1]\n",
    "ego_frame_height = ego_video.frame.shape[0]\n",
    "ego_size = (ego_frame_width, ego_frame_height)\n",
    "ego_result = cv2.VideoWriter(os.path.join(EGO_CAMERA_FOLDER, \"ego.mp4\"),\n",
    "            cv2.VideoWriter_fourcc('m','p','4','v'), Hz, ego_size)\n",
    "\n",
    "\n",
    "tmr_plot = Timer(_name='Plot',_HZ=Hz,_MAX_SEC=traj_time,_VERBOSE=True)\n",
    "tmr_plot.start()\n",
    "while tmr_plot.is_notfinished():\n",
    "    if tmr_plot.do_run():\n",
    "        # Time data\n",
    "        time_data.append(tmr_plot.sec_elps)\n",
    "\n",
    "        # Run Snapbot\n",
    "        pos = traj[idx_snapbot]\n",
    "        run_snapbot_single(pos,snapbot)\n",
    "        idx_snapbot += 1\n",
    "\n",
    "        # Read IMU data\n",
    "        line = ser.readline()\n",
    "        data = line.decode('unicode_escape')\n",
    "        imu_data.append(data)\n",
    "\n",
    "        # Realsense camera video\n",
    "        rs_frame = rs_video.frame\n",
    "        rs_result.write(rs_frame) # save .mp4 video\n",
    "        # RS_IMAGE_PATH = os.path.join(RS_CAMERA_FOLDER, str(idx) + '.jpg')\n",
    "        # cv2.imwrite(RS_IMAGE_PATH, rs_frame) # save .jpg images\n",
    "\n",
    "        # Egocentric camera video\n",
    "        ego_frame = ego_video.frame\n",
    "        ego_frame_flip = cv2.flip(ego_frame, -1)\n",
    "        ego_result.write(ego_frame_flip) # save .mp4 video\n",
    "        # EGO_IMAGE_PATH = os.path.join(EGO_CAMERA_FOLDER, str(idx) + '.jpg')\n",
    "        # cv2.imwrite(EGO_IMAGE_PATH, ego_frame_flip) # save .jpg images\n",
    "\n",
    "        idx += 1\n",
    "\n",
    "\n",
    "np.save(os.path.join(DATA_FOLDER_TIME, \"time.npy\"), time_data)\n",
    "np.save(os.path.join(DATA_FOLDER_TIME, \"imu.npy\"), imu_data)\n",
    "rs_video.stop()\n",
    "rs_result.release()\n",
    "ego_video.stop()\n",
    "ego_result.release()\n",
    "cv2.destroyAllWindows()\n"
   ]
  },
  {
   "cell_type": "code",
   "execution_count": null,
   "metadata": {},
   "outputs": [],
   "source": [
    "tps_check = np.load(os.path.join(DATA_FOLDER_TIME, \"tps_coef.npy\"))\n",
    "time_check = np.load(os.path.join(DATA_FOLDER_TIME, \"time.npy\"))\n",
    "imu_check = np.load(os.path.join(DATA_FOLDER_TIME, \"imu.npy\"))\n",
    "\n",
    "print(tps_check, \"\\n\")\n",
    "print(time_check.shape, \"\\n\")\n",
    "print(imu_check[-5:])"
   ]
  },
  {
   "cell_type": "markdown",
   "metadata": {},
   "source": [
    "## Close Snapbot"
   ]
  },
  {
   "cell_type": "code",
   "execution_count": null,
   "metadata": {},
   "outputs": [],
   "source": [
    "snapbot.set_torque([0])\n",
    "snapbot.close()"
   ]
  },
  {
   "cell_type": "code",
   "execution_count": null,
   "metadata": {},
   "outputs": [],
   "source": []
  }
 ],
 "metadata": {
  "kernelspec": {
   "display_name": "Python 3.8.10 64-bit",
   "language": "python",
   "name": "python3"
  },
  "language_info": {
   "codemirror_mode": {
    "name": "ipython",
    "version": 3
   },
   "file_extension": ".py",
   "mimetype": "text/x-python",
   "name": "python",
   "nbconvert_exporter": "python",
   "pygments_lexer": "ipython3",
   "version": "3.8.10"
  },
  "orig_nbformat": 4,
  "vscode": {
   "interpreter": {
    "hash": "916dbcbb3f70747c44a77c7bcd40155683ae19c65e1c03b4aa3499c5328201f1"
   }
  }
 },
 "nbformat": 4,
 "nbformat_minor": 2
}
